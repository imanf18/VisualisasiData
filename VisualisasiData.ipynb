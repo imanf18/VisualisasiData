{
  "nbformat": 4,
  "nbformat_minor": 0,
  "metadata": {
    "colab": {
      "private_outputs": true,
      "provenance": [],
      "authorship_tag": "ABX9TyOTtBaRzvVkWOY1bMTyttWZ",
      "include_colab_link": true
    },
    "kernelspec": {
      "name": "python3",
      "display_name": "Python 3"
    },
    "language_info": {
      "name": "python"
    }
  },
  "cells": [
    {
      "cell_type": "markdown",
      "metadata": {
        "id": "view-in-github",
        "colab_type": "text"
      },
      "source": [
        "<a href=\"https://colab.research.google.com/github/imanf18/visualisasiData/blob/main/VisualisasiData.ipynb\" target=\"_parent\"><img src=\"https://colab.research.google.com/assets/colab-badge.svg\" alt=\"Open In Colab\"/></a>"
      ]
    },
    {
      "cell_type": "markdown",
      "source": [
        "NAMA : IMAN FUSHSHILAT;\n",
        "NIM  : 201012320033\n",
        "1.   Menghubungkan Google Drive dengan Colab; link File di google drive : https://drive.google.com/file/d/19hWk8Urdnd_2z1QOLT8SSIyDZKyPsXpj/view?usp=drive_link\n",
        "2.   Setting Hardware Acceleator Menggunakan T4 GPU dengan kernel python 3;"
      ],
      "metadata": {
        "id": "RB883FwQOIus"
      }
    },
    {
      "cell_type": "code",
      "execution_count": null,
      "metadata": {
        "id": "6r-MI_CoM2eZ"
      },
      "outputs": [],
      "source": [
        "#NAMA : IMAN FUSHSHILAT\n",
        "#NIM  : 201012320033\n",
        "# 1. Menghubungkan Google Drive dengan Colab;\n",
        "#Setting Hardware Acceleator Menggunakan T4 GPU dengan kernel python 3;\n",
        "from google.colab import drive\n",
        "drive.mount ('/content/drive')"
      ]
    },
    {
      "cell_type": "markdown",
      "source": [
        "1. Membaca file data0-SZL.csv yang ditempatkan di My Drive pada google drive saya, didalam folder \"datacsv\"\n",
        "2. Mengunakan Library Pandas, numpy dan Matplotlib"
      ],
      "metadata": {
        "id": "2oSvg8IiOynE"
      }
    },
    {
      "cell_type": "code",
      "source": [
        "#1. Membaca file data0-SZL.csv yang ditempatkan di My Drive pada google drive saya, didalam folder \"datacsv\"\n",
        "#2. Mengunakan Library Pandas, numpy dan Matplotlib\n",
        "import pandas as pd\n",
        "import numpy as np\n",
        "import matplotlib.pyplot as plt\n",
        "df = pd.read_csv ('/content/drive/My Drive/datacsv/data0-SZL.csv')\n",
        "print (df)"
      ],
      "metadata": {
        "id": "58w9D8C6O6oq"
      },
      "execution_count": null,
      "outputs": []
    },
    {
      "cell_type": "markdown",
      "source": [
        "2. Menampilkan Nilai rata-rata, Standar deviasi, Skewness, Median, Energi, Min, dan Max untuk setiap kolom"
      ],
      "metadata": {
        "id": "7lAk1Ct3SvQ7"
      }
    },
    {
      "cell_type": "code",
      "source": [
        "#Menampilkan Nilai rata-rata, Standar deviasi, Skewness, Median, Energi, Min, dan Max untuk setiap kolom\n",
        "result_df = pd.DataFrame()\n",
        "\n",
        "# Menghitung statistik untuk setiap kolom\n",
        "result_df['Rata-rata'] = df.mean()\n",
        "result_df['Standar deviasi'] = df.std()\n",
        "result_df['Skewness'] = df.skew()\n",
        "result_df['Median'] = df.median()\n",
        "result_df['Energi'] = (df ** 2).mean()\n",
        "result_df['Min'] = df.min()\n",
        "result_df['Max'] = df.max()\n",
        "\n",
        "# Menampilkan hasil perhitungan\n",
        "print(result_df)"
      ],
      "metadata": {
        "id": "bB4uTkDGTQAL"
      },
      "execution_count": null,
      "outputs": []
    },
    {
      "cell_type": "markdown",
      "source": [
        "3. Plot sinyal dengan multiplot 2x3, sinyal yang diplot dapat dipilih dari 6 kolom secara bebas"
      ],
      "metadata": {
        "id": "OpV-UWG-iSiG"
      }
    },
    {
      "cell_type": "code",
      "source": [
        "#Plot sinyal dengan multiplot 2x3, sinyal yang diplot dapat dipilih dari 6 kolom secara bebas\n",
        "# Memilih kolom yang akan diplot (misalnya, kolom 1 hingga 6)\n",
        "selected_columns = df.columns[:6]\n",
        "\n",
        "# Mengatur ukuran gambar\n",
        "plt.figure(figsize=(12, 8))\n",
        "\n",
        "# Melakukan plotting untuk setiap kolom dalam multiplot 2x3\n",
        "for i, column in enumerate(selected_columns, 1):\n",
        "    plt.subplot(2, 3, i)\n",
        "    plt.plot(df[column])\n",
        "    plt.title(column)\n",
        "\n",
        "# Menampilkan plot\n",
        "plt.tight_layout()\n",
        "plt.show()"
      ],
      "metadata": {
        "id": "Dc9vQ9ZZivIQ"
      },
      "execution_count": null,
      "outputs": []
    },
    {
      "cell_type": "markdown",
      "source": [
        "4. Buat Scatterplot untuk data rata rata, buat warna dan tanda yang berbeda untuk setiap 10 kolom, kolom 1 sampai dengan 10 warna merah dengan tanda *, kolom 11sampai dengan 20 warna biru dengan tanda o, kolom 21 sampai dengan 30 warna hijau dengan tanda v, dan seterusnya bebas. dimana x adalah nilai rata-rata dan y adalah nilai standar deviasi"
      ],
      "metadata": {
        "id": "Sd_w_rGeqzjL"
      }
    },
    {
      "cell_type": "code",
      "source": [
        "#Buat Scatterplot untuk data rata rata, buat warna dan tanda yang berbeda untuk setiap 10 kolom, kolom 1 sampai dengan 10 warna merah dengan tanda *,\n",
        "#kolom 11sampai dengan 20 warna biru dengan tanda o, kolom 21 sampai dengan 30 warna hijau dengan tanda v, dan seterusnya bebas.\n",
        "#dimana x adalah nilai rata-rata dan y adalah nilai standar deviasi\n",
        "\n",
        "# Memilih kolom yang akan digunakan untuk scatterplot\n",
        "selected_columns = df.columns[:160] #Jumlah Kolom 160\n",
        "\n",
        "# Memisahkan kolom menjadi kelompok berdasarkan kriteria yang diberikan\n",
        "grouped_columns = [selected_columns[i:i+10] for i in range(0, len(selected_columns), 10)]\n",
        "\n",
        "# Mengatur warna dan marker style untuk setiap kelompok kolom\n",
        "colors = ['red', 'blue', 'green', 'orange', 'purple', 'brown','black', 'gold', 'peru', 'coral', 'pink', 'indigo', 'magenta', 'limegreen', 'aqua', 'lightsalmon']\n",
        "markers = ['*', 'o', 'v', 'x', '+', '.',',', '^', '<', '>', 'X', 'D', 's', 'p', '8', '4']\n",
        "\n",
        "# Mengatur ukuran gambar\n",
        "plt.figure(figsize=(30, 20))\n",
        "\n",
        "# Melakukan plotting scatterplot untuk setiap kelompok kolom\n",
        "for i, columns in enumerate(grouped_columns):\n",
        "    color = colors[i]\n",
        "    marker = markers[i]\n",
        "    for column in columns:\n",
        "        x = df[column].mean()\n",
        "        y = df[column].std()\n",
        "        plt.scatter(x, y, color=color, marker=marker, label=f'Kolom {column}')\n",
        "\n",
        "# Menambahkan label dan judul\n",
        "plt.xlabel('Rata-rata')\n",
        "plt.ylabel('Standar Deviasi')\n",
        "plt.title('Scatterplot: Rata-rata vs Standar Deviasi')\n",
        "\n",
        "# Menambahkan legenda\n",
        "plt.legend(loc='upper right')\n",
        "\n",
        "# Menampilkan plot\n",
        "plt.grid(True)\n",
        "plt.show()\n"
      ],
      "metadata": {
        "id": "bHDAiMrmsG3Q"
      },
      "execution_count": null,
      "outputs": []
    },
    {
      "cell_type": "markdown",
      "source": [
        "5. Buat Scatterplot untuk nilai x adalah nilai SKEWNESS dan y adalah nilai MEDIAN"
      ],
      "metadata": {
        "id": "_ivjHa2s7QY4"
      }
    },
    {
      "cell_type": "code",
      "source": [
        "#Buat Scatterplot untuk data rata rata, buat warna dan tanda yang berbeda untuk setiap 10 kolom, kolom 1 sampai dengan 10 warna merah dengan tanda *,\n",
        "#kolom 11sampai dengan 20 warna biru dengan tanda o, kolom 21 sampai dengan 30 warna hijau dengan tanda v, dan seterusnya bebas.\n",
        "#dimana x adalah nilai SKEWNESS dan y adalah nilai MEDIAN\n",
        "# Memilih kolom yang akan digunakan untuk scatterplot\n",
        "selected_columns = df.columns[:160] #Jumlah Kolom 160\n",
        "\n",
        "# Memisahkan kolom menjadi kelompok berdasarkan kriteria yang diberikan\n",
        "grouped_columns = [selected_columns[i:i+10] for i in range(0, len(selected_columns), 10)]\n",
        "\n",
        "# Mengatur warna dan marker style untuk setiap kelompok kolom\n",
        "colors = ['red', 'blue', 'green', 'orange', 'purple', 'brown','black', 'gold', 'peru', 'coral', 'pink', 'indigo', 'magenta', 'limegreen', 'aqua', 'lightsalmon']\n",
        "markers = ['*', 'o', 'v', 'x', '+', '.',',', '^', '<', '>', 'X', 'D', 's', 'p', '8', '4']\n",
        "\n",
        "# Mengatur ukuran gambar\n",
        "plt.figure(figsize=(30, 20))\n",
        "\n",
        "# Melakukan plotting scatterplot untuk setiap kelompok kolom\n",
        "for i, columns in enumerate(grouped_columns):\n",
        "    color = colors[i]\n",
        "    marker = markers[i]\n",
        "    for column in columns:\n",
        "        x = df[column].skew() ## INI YANG MENBEDAKAN DENGAN NOMOR 4 (DIATAS)\n",
        "        y = df[column].median() ## INI YANG MENBEDAKAN DENGAN NOMOR 4 (DIATAS)\n",
        "        plt.scatter(x, y, color=color, marker=marker, label=f'Kolom {column}')\n",
        "\n",
        "# Menambahkan label dan judul\n",
        "plt.xlabel('SKEWNESS')\n",
        "plt.ylabel('MEDIAN')\n",
        "plt.title('Scatterplot: SKEWNESS VS MEDIAN')\n",
        "\n",
        "# Menambahkan legenda\n",
        "plt.legend(loc='upper right')\n",
        "\n",
        "# Menampilkan plot\n",
        "plt.grid(True)\n",
        "plt.show()\n"
      ],
      "metadata": {
        "id": "kqI7V9ac7k_J"
      },
      "execution_count": null,
      "outputs": []
    }
  ]
}